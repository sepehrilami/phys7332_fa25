{
 "cells": [
  {
   "cell_type": "markdown",
   "metadata": {},
   "source": [
    "# HW 1\n",
    "\n",
    "Sepehr Ilami\n",
    "\n",
    "September 2025"
   ]
  },
  {
   "cell_type": "markdown",
   "metadata": {},
   "source": [
    "## Question 1"
   ]
  },
  {
   "cell_type": "markdown",
   "metadata": {},
   "source": [
    "### a"
   ]
  },
  {
   "cell_type": "markdown",
   "metadata": {},
   "source": [
    ".csv:\n",
    "\n",
    "This format is very simple and very well known. It's also readable by humans and works well as supplementary materials of a project/paper. Also, it's easy to import/export in Python and very easy to work with\n",
    "\n",
    ".pkl:\n",
    "\n",
    "This is a differnet format that is more efficient in terms of space and speed. It also keeps the object structure intact, which is useful for complex data types.\n",
    "\n",
    ".gml:\n",
    "\n",
    "It perfectly stores nodes and edges and their attributes all together in one file. It's specifically designed for graph data, making it a natural choice for this kind of work. It's also human readable.\n",
    "\n",
    "ElasticSearch:\n",
    "\n",
    "Very fast for searching, querying, and indexing huge datasets. It also supports complex queries, making it a powerful tool for data analysis. Great for attribute-based searches."
   ]
  },
  {
   "cell_type": "markdown",
   "metadata": {},
   "source": [
    "### b"
   ]
  },
  {
   "cell_type": "markdown",
   "metadata": {},
   "source": [
    "Basically, each format's disadvantages are the advantages of the others. \n",
    "\n",
    ".csv:\n",
    "\n",
    "while CSV files are simple and human-readable, they are not efficient for large datasets and do not preserve complex data structures, lacking schema or type information. Also, implementing multigraphs and hyperedges can be challenging due to the need for extra columns, and the graph structure is not explicit, requiring additional processing to reconstruct the graph.\n",
    "\n",
    ".pkl:\n",
    "\n",
    "I think it's only used with Python, so it's not very portable. Also, it's not human-readable, which can make debugging and manual inspection difficult. Additionally, security concerns arise when unpickling data from untrusted sources, as it can execute arbitrary code.\n",
    "\n",
    ".gml:\n",
    "\n",
    "While GML is human-readable and specifically designed for graph data, it can become complicated for very large graphs due to its text-based nature, leading to larger file sizes and slower parsing times. Additionally, GML may not support all complex graph structures natively, such as multigraphs or hyperedges, requiring workarounds. It's main problem though is its parse time and file size for large graphs.\n",
    "\n",
    "ElasticSearch:\n",
    "\n",
    "ElasticSearch is not a file format but a search engine, which means it requires setting up and maintaining a server, adding complexity compared to simple file formats. It is probably overkill for small datasets or simple graph structures, and its performance can degrade with very large datasets if not properly managed. You should simulate a graph with queries, which is not as straightforward as using a dedicated graph format."
   ]
  },
  {
   "cell_type": "markdown",
   "metadata": {},
   "source": [
    "### c"
   ]
  },
  {
   "cell_type": "markdown",
   "metadata": {},
   "source": [
    "I believe that .pkl files are the ones that pose a security risk. This is because they can execute arbitrary code during the unpickling process, which can be exploited if the data comes from an untrusted source. This makes them potentially dangerous if not handled carefully.\n",
    "\n",
    "Imagine you receive a package from someone you don't know. If the package contains a simple letter (like a .csv file), you can easily read it without any worries. But if the package contains a complex gadget (like a .pkl file), It could be very dangerous. The pickle can serialize and deserialize not just data, but also executable code in the form of bytecode. So when you unpickle data, you are basically asking the Python interpreter to execute a stream of instructions, including functions, classes, etc. An attacker can use this functionality to create a payload that performs malicious actions upon deserialization. For example, they could craft a pickle that, when unpickled, deletes files, steals data, or opens a backdoor on your system. This is why it's crucial to only unpickle data from trusted sources. \n",
    "\n"
   ]
  },
  {
   "cell_type": "markdown",
   "metadata": {},
   "source": [
    "### d"
   ]
  },
  {
   "cell_type": "markdown",
   "metadata": {},
   "source": [
    "Ok so, when each of these formats are ideal to use?\n",
    "\n",
    "**CSV** is sharable, readable, simple, and easy to use, making it great for small to medium datasets. It's particularly useful when you want to share data with others or include it as supplementary material in a publication. You can easily attach an edge list along with a node table (attributes), and you're done. Additionally, CSV is excellent for quick prototyping and analysis, especially when working with tabular data.\n",
    "\n",
    "**Pickle** is optimal for Python-only workflows, especially when you run an expensive pipeline to compute centralities or communities on a NetworkX graph. It allows you to checkpoint the enriched graph for quick reloads the next day. Its one-line save/load feature preserves all Python attributes exactly and is fast during development. However, it should not be shared externally, as it is best treated as a local cache artifact.\n",
    "\n",
    "**GML** is ideal for preparing a graph with node and edge attributes that you want collaborators to open in tools like Gephi. It captures both structure and attributes in a single text file, making it human-inspectable and well-supported by various graph tools.\n",
    "\n",
    "**Elasticsearch** awesome when analyzing massive, time-evolving interaction or telemetry graphs, such as billions of events (e.g., user-item clicks, login IP connections). It provides near-real-time filtering by time window and attributes, along with dashboards that spotlight emerging connections. Its distributed ingestion, fast aggregations, and powerful query Domain-specific Language (DSL) make it suitable for operational large-graph analytics.\n"
   ]
  },
  {
   "cell_type": "markdown",
   "metadata": {},
   "source": [
    "## Question 2"
   ]
  },
  {
   "cell_type": "markdown",
   "metadata": {},
   "source": [
    "### a"
   ]
  },
  {
   "cell_type": "markdown",
   "metadata": {},
   "source": [
    "This algorithm with fall in an infinite loop in any complete network. because this if loop would always be true:\n",
    "\n",
    "```\n",
    "if has edge(G, i, v) or has edge(G, j, u) then\n",
    "    continue\n",
    "```\n",
    "because in a complete graph, every node is connected to every other node. So, for any pair of edges (i, j) and (u, v), there will always be an edge between i and v or between j and u. This means that the condition in the if statement will always be true, causing the algorithm to skip the rest of the loop and continue to the next iteration indefinitely.\n",
    "\n",
    "Some other non-complete graphs that can also cause this algorithm to fall into an infinite loop are:\n",
    "1. Star Graphs: In a star graph, there is a central node connected to all other peripheral nodes. If the algorithm selects edges that involve the central node, it can keep selecting edges that connect to the central node, leading to an infinite loop. Again, based on this line:\n",
    "```\n",
    "if has edge(G, i, v) or has edge(G, j, u) then\n",
    "    continue\n",
    "```\n",
    "\n",
    "2. Graphs with 3 or fewer nodes: In such small graphs, the limited number of edges can lead to situations where the algorithm keeps selecting edges that connect the same nodes, causing it to loop indefinitely. This happens based on this line:\n",
    "```\n",
    "if i = u or ui = v or j = u or j = v then\n",
    "    continue\n",
    "```\n",
    "\n",
    "3. Bipartite Graphs with Complete Connections: In a bipartite graph where every node in one set is connected to every node in the other set, the algorithm can keep selecting edges that connect nodes from different sets, leading to an infinite loop."
   ]
  },
  {
   "cell_type": "markdown",
   "metadata": {},
   "source": [
    "### b"
   ]
  },
  {
   "cell_type": "markdown",
   "metadata": {},
   "source": [
    "Instead of just counting successful exchanges with `s`, we can also count the number of attempts with a new variable `attempts`. If the number of attempts exceeds a certain threshold (e.g., `max_attempts`), we can break out of the loop to prevent an infinite loop. There are two different ways to set this threshold: 1) per exchange, or 2) overall. I will implement the first one here; But we can also set a threshold for the overall attempts. This version could be done by adding a new variable `overall_attempts` and checking it against a `max_overall_attempts` threshold, or, more simply, we can use a for loop instead of a while loop for the overall attempts."
   ]
  },
  {
   "cell_type": "code",
   "execution_count": 4,
   "metadata": {},
   "outputs": [],
   "source": [
    "def edge_exchange(G, t, max_attempts):\n",
    "    s = 0\n",
    "    attempts = 0\n",
    "    while s < t and attempts < max_attempts:\n",
    "        i, j = get_random_edge(G)\n",
    "        u, v = get_random_edge(G)\n",
    "        if i == u or i == v or j == u or j == v:\n",
    "            attempts += 1\n",
    "            continue\n",
    "        if has_edge(G, i, v) or has_edge(G, j, u):\n",
    "            attempts += 1\n",
    "            continue\n",
    "        remove_edge(G, i, j)\n",
    "        remove_edge(G, u, v)\n",
    "        add_edge(G, i, v)\n",
    "        add_edge(G, j, u)\n",
    "        s += 1  # Reset attempts after a successful exchange\n",
    "        attempts = 0"
   ]
  },
  {
   "cell_type": "markdown",
   "metadata": {},
   "source": [
    "### c"
   ]
  },
  {
   "cell_type": "markdown",
   "metadata": {},
   "source": [
    "Modify the algorithm to preserve not only the\n",
    "degrees of every node but also the overall connectivity of the network. How does\n",
    "this additional constraint make edge exchange more difficult?\n",
    "\n",
    "To preserve the overall connectivity of the network during edge exchanges, we need to ensure that the graph remains connected after each exchange. This means that we cannot perform an edge exchange if it would result in a disconnected graph.\n",
    "\n",
    "This additional contraint will make the exchange more difficult because every time we want to exchange two edges, we need to check if the resulting graph is still connected. This requires additional computations, such as performing a connectivity check (e.g., using DFS/BFS, or even a simple networkx check) after each potential exchange. This added complexity can significantly increase the time complexity of the algorithm, especially for large graphs.\n",
    "\n",
    "Here is a modified version of the algorithm that includes a connectivity check:"
   ]
  },
  {
   "cell_type": "code",
   "execution_count": 5,
   "metadata": {},
   "outputs": [],
   "source": [
    "import random  # BEGIN: ed8c6549bwf9\n",
    "import networkx as nx\n",
    "\n",
    "def connected(G):\n",
    "    # we can check connectivity using NetworkX, or implement our own DFS/BFS\n",
    "    # DFS implementation\n",
    "    from collections import deque\n",
    "    visited = set()\n",
    "    start_node = next(iter(G.nodes))  # Get an arbitrary starting node\n",
    "    queue = deque([start_node])\n",
    "    while queue:\n",
    "        node = queue.popleft()\n",
    "        if node not in visited:\n",
    "            visited.add(node)\n",
    "            queue.extend(neighbor for neighbor in G.neighbors(node) if neighbor not in visited)\n",
    "    return len(visited) == len(G.nodes)\n",
    "    # Alternatively, using NetworkX's built-in function:\n",
    "    return nx.is_connected(G)  # Using NetworkX's built-in function to check connectivity\n",
    "\n",
    "def edge_exchange_with_connectivity(G, max_attempts):\n",
    "    s = 0\n",
    "    attempts = 0\n",
    "    while attempts < max_attempts:\n",
    "        # Randomly select two edges (i, j) and (u, v) from G\n",
    "        i, j = get_random_edge(G)\n",
    "        u, v = get_random_edge(G)\n",
    "        if i == u or i == v or j == u or j == v:\n",
    "            attempts += 1\n",
    "            continue\n",
    "        if has_edge(G, i, v) or has_edge(G, j, u):\n",
    "            attempts += 1\n",
    "            continue\n",
    "        # Perform the edge exchange\n",
    "        G.remove_edge(i, j)\n",
    "        G.remove_edge(u, v)\n",
    "        G.add_edge(i, v)\n",
    "        G.add_edge(j, u)\n",
    "        # Check if the graph is still connected\n",
    "        if not connected(G):\n",
    "            # If not connected, revert the changes\n",
    "            G.remove_edge(i, v)\n",
    "            G.remove_edge(j, u)\n",
    "            G.add_edge(i, j)\n",
    "            G.add_edge(u, v)\n",
    "            attempts += 1\n",
    "            continue\n",
    "        s += 1\n",
    "        attempts = 0  # Reset attempts after a successful exchange\n",
    "    return s\n"
   ]
  },
  {
   "cell_type": "markdown",
   "metadata": {},
   "source": [
    "### d"
   ]
  },
  {
   "cell_type": "markdown",
   "metadata": {},
   "source": [
    "It means that on top of all checks above, now we need to make sure that the new edge preserves the attribute as well. In other words, if i was previously connected to j and now we want to create edge of i to v, we need to make sure that nodes j and v have the same attribute value. This adds another layer of complexity to the edge exchange process, as we now need to check the attributes of the nodes involved in the exchange. This can further reduce the number of valid exchanges that can be made.\n",
    "\n",
    "Intuitively, I think the expected number of attempts to find a valid exchange will be multipled by 4. Because for swapping (i,j) and (u,v) to (i,v) and (u,j), we need to make sure that: 1) i and v have the same attribute, and 2) u and j have the same attribute. Having the same attribute out of two options {-1, 1} has a probability of 0.5 (Assuming uniform distribution). So the probability of both conditions being true is 0.5 * 0.5 = 0.25. Therefore, the expected number of attempts to find a valid exchange will be multiplied by 4."
   ]
  },
  {
   "cell_type": "markdown",
   "metadata": {},
   "source": [
    "Suppose your network has a binary attribute\n",
    "xi ∈ {−1, 1} associated with every node i. Modify the algorithm to preserve the\n",
    "correlation on edges of x. This means that any new edge (a, b) inserted in place\n",
    "of an existing edge (i, j) must have the same attributes (xi, xj ) = (xa, xb).\n",
    "\n",
    "Here's the modified algorithm:"
   ]
  },
  {
   "cell_type": "code",
   "execution_count": null,
   "metadata": {},
   "outputs": [],
   "source": [
    "def edge_exchange_with_connectivity_and_attribute(G, max_attempts, max_overall_attempts):\n",
    "    s = 0\n",
    "    attempts = 0\n",
    "    overall_attempts = 0\n",
    "    while s < max_attempts and overall_attempts < max_overall_attempts:\n",
    "        overall_attempts += 1\n",
    "        i, j = get_random_edge(G)\n",
    "        u, v = get_random_edge(G)\n",
    "        if i == u or i == v or j == u or j == v:\n",
    "            continue\n",
    "        if has_edge(G, i, v) or has_edge(G, j, u):\n",
    "            continue\n",
    "        if attribute(i) != attribute(v) or attribute(j) != attribute(u):\n",
    "            continue\n",
    "        attempts = 0\n",
    "        while attempts < max_attempts:\n",
    "            attempts += 1\n",
    "            G_prime = G.copy()  # Create a copy of G\n",
    "            G_prime.remove_edge(i, j)\n",
    "            G_prime.remove_edge(u, v)\n",
    "            G_prime.add_edge(i, v)\n",
    "            G_prime.add_edge(j, u)\n",
    "            if is_connected(G_prime):\n",
    "                G = G_prime\n",
    "                s += 1\n",
    "                break\n",
    "    return G"
   ]
  },
  {
   "cell_type": "markdown",
   "metadata": {},
   "source": [
    "## Question 3"
   ]
  },
  {
   "cell_type": "markdown",
   "metadata": {},
   "source": [
    "### a"
   ]
  },
  {
   "cell_type": "code",
   "execution_count": 1,
   "metadata": {},
   "outputs": [
    {
     "name": "stdout",
     "output_type": "stream",
     "text": [
      "node: 2\n",
      "betweenness (custom): 0.7440476190476191\n"
     ]
    }
   ],
   "source": [
    "# implement betweenness centrality using Brandes' algorithm, and compare with networkx\n",
    "import networkx as nx\n",
    "import random\n",
    "import time\n",
    "from collections import defaultdict, deque\n",
    "import numpy as np\n",
    "import matplotlib.pyplot as plt\n",
    "\n",
    "def generate_random_graph(num_nodes, num_edges):\n",
    "    G = nx.gnm_random_graph(num_nodes, num_edges)\n",
    "    return G\n",
    "\n",
    "def all_shortest_paths(G, start, end):\n",
    "    if start == end:\n",
    "        return [[start]]\n",
    "    \n",
    "    # BFS to find shortest distances and parents\n",
    "    distances = {start: 0}\n",
    "    parents = defaultdict(list)\n",
    "    queue = deque([start])\n",
    "    \n",
    "    while queue:\n",
    "        vertex = queue.popleft()\n",
    "        for neighbor in G.neighbors(vertex):\n",
    "            if neighbor not in distances:\n",
    "                distances[neighbor] = distances[vertex] + 1\n",
    "                queue.append(neighbor)\n",
    "                parents[neighbor].append(vertex)\n",
    "            elif distances[neighbor] == distances[vertex] + 1:\n",
    "                # Another shortest path to this neighbor\n",
    "                parents[neighbor].append(vertex)\n",
    "    \n",
    "    if end not in distances:\n",
    "        return []  # No path exists\n",
    "    \n",
    "    # Reconstruct all shortest paths\n",
    "    def build_paths(node):\n",
    "        if node == start:\n",
    "            return [[start]]\n",
    "        \n",
    "        paths = []\n",
    "        for parent in parents[node]:\n",
    "            for path in build_paths(parent):\n",
    "                paths.append(path + [node])\n",
    "        return paths\n",
    "    \n",
    "    return build_paths(end)\n",
    "\n",
    "def calc_betweenness_single_node(G, node):\n",
    "    nodes = list(G.nodes())\n",
    "    nodes.remove(node)\n",
    "    betweenness = 0.0\n",
    "    \n",
    "    for i in range(len(nodes)):\n",
    "        for j in range(i + 1, len(nodes)):\n",
    "            s = nodes[i]\n",
    "            t = nodes[j]\n",
    "            paths = all_shortest_paths(G, s, t)\n",
    "            if not paths:\n",
    "                continue\n",
    "            count_paths_through_node = sum(1 for path in paths if node in path[1:-1])\n",
    "            betweenness += count_paths_through_node / len(paths)\n",
    "    \n",
    "    return betweenness\n",
    "\n",
    "num_nodes = 10  # Number of nodes in the random graph\n",
    "num_edges = 40  # Number of edges in the random graph\n",
    "# create a G using networkx\n",
    "G = generate_random_graph(num_nodes, num_edges)\n",
    "node = 2\n",
    "print(f'node: {node}')\n",
    "betweenness = calc_betweenness_single_node(G, node)\n",
    "print(f'betweenness (custom): {betweenness}')\n"
   ]
  },
  {
   "cell_type": "code",
   "execution_count": 3,
   "metadata": {},
   "outputs": [
    {
     "name": "stdout",
     "output_type": "stream",
     "text": [
      "Custom implementation time (small graph): 0.148072 seconds\n",
      "NetworkX implementation time (small graph): 0.001357 seconds\n",
      "Difference in results (L2 norm) (small graph): 0.130707\n"
     ]
    },
    {
     "data": {
      "image/png": "[encoded data removed]",
      "text/plain": [
       "<Figure size 1000x500 with 1 Axes>"
      ]
     },
     "metadata": {},
     "output_type": "display_data"
    }
   ],
   "source": [
    "\n",
    "def betweenness_centrality_all_nodes(G):\n",
    "    betweenness = {}\n",
    "    for node in G.nodes():\n",
    "        betweenness[node] = calc_betweenness_single_node(G, node)\n",
    "    \n",
    "    # Normalize the betweenness values\n",
    "    scale = 1 / ((len(G) - 1) * (len(G) - 2)) if len(G) > 2 else None\n",
    "    if scale is not None:\n",
    "        for v in betweenness:\n",
    "            betweenness[v] *= scale\n",
    "    \n",
    "    return betweenness\n",
    "\n",
    "# geenrate a small random graph and compare our method with networkx\n",
    "def generate_small_random_graph(num_nodes, num_edges):\n",
    "    G = nx.gnm_random_graph(num_nodes, num_edges)\n",
    "    return G\n",
    "\n",
    "def compare_betweenness_small(num_nodes, num_edges):\n",
    "    G = generate_small_random_graph(num_nodes, num_edges)\n",
    "    \n",
    "    start_time = time.time()\n",
    "    custom_bc = betweenness_centrality_all_nodes(G)\n",
    "    custom_time = time.time() - start_time\n",
    "    \n",
    "    start_time = time.time()\n",
    "    nx_bc = nx.betweenness_centrality(G, normalized=True)\n",
    "    nx_time = time.time() - start_time\n",
    "    \n",
    "    # Compare results\n",
    "    custom_values = np.array([custom_bc[node] for node in G.nodes()])\n",
    "    nx_values = np.array([nx_bc[node] for node in G.nodes()])\n",
    "    \n",
    "    difference = np.linalg.norm(custom_values - nx_values)\n",
    "    \n",
    "    print(f\"Custom implementation time (small graph): {custom_time:.6f} seconds\")\n",
    "    print(f\"NetworkX implementation time (small graph): {nx_time:.6f} seconds\")\n",
    "    print(f\"Difference in results (L2 norm) (small graph): {difference:.6f}\")\n",
    "    \n",
    "    # Plotting the results\n",
    "    plt.figure(figsize=(10, 5))\n",
    "    plt.scatter(custom_values, nx_values, alpha=0.5)\n",
    "    plt.plot([0, max(custom_values.max(), nx_values.max())], [0, max(custom_values.max(), nx_values.max())], 'r--')\n",
    "    plt.xlabel('Custom Betweenness Centrality (Small Graph)')\n",
    "    plt.ylabel('NetworkX Betweenness Centrality (Small Graph)')\n",
    "    plt.title('Comparison of Betweenness Centrality Implementations (Small Graph)')\n",
    "    plt.grid(True)\n",
    "    plt.show()\n",
    "\n",
    "num_nodes_small = 20  # Number of nodes in the small random graph\n",
    "num_edges_small = 50  # Number of edges in the small random graph\n",
    "compare_betweenness_small(num_nodes_small, num_edges_small)"
   ]
  },
  {
   "cell_type": "markdown",
   "metadata": {},
   "source": [
    "### b"
   ]
  },
  {
   "cell_type": "code",
   "execution_count": null,
   "metadata": {},
   "outputs": [
    {
     "name": "stdout",
     "output_type": "stream",
     "text": [
      "node: 2\n",
      "betweenness (custom): 5.2749999999999995\n"
     ]
    }
   ],
   "source": [
    "def calc_betweenness_single_node(G, node):\n",
    "    nodes = list(G.nodes())\n",
    "    # check if node is in G.nodes\n",
    "    if node not in nodes:\n",
    "        raise ValueError(f\"Node {node} not in graph\")\n",
    "    # if the graph is not a networkX object, raise an error\n",
    "    if not isinstance(G, nx.Graph):\n",
    "        raise ValueError(\"G must be a networkx Graph object\")\n",
    "    # check the graph connectivity\n",
    "    if not nx.is_connected(G):\n",
    "        raise ValueError(\"Graph must be connected\")\n",
    "    # if the number of edges are extremely low, raise a warning\n",
    "    if G.number_of_edges() < 10:\n",
    "        raise Warning(\"Graph is very sparse, results may be inaccurate\")\n",
    "    nodes.remove(node)\n",
    "    betweenness = 0.0\n",
    "    \n",
    "    for i in range(len(nodes)):\n",
    "        for j in range(i + 1, len(nodes)):\n",
    "            s = nodes[i]\n",
    "            t = nodes[j]\n",
    "            paths = all_shortest_paths(G, s, t)\n",
    "            if len(paths) == 0:\n",
    "                raise ValueError(f\"No path between {s} and {t}; graph must be connected\")\n",
    "            if not paths:\n",
    "                continue\n",
    "            count_paths_through_node = sum(1 for path in paths if node in path[1:-1])\n",
    "            betweenness += count_paths_through_node / len(paths)\n",
    "    \n",
    "    return betweenness\n",
    "\n",
    "num_nodes = 10  # Number of nodes in the random graph\n",
    "num_edges = 20  # Number of edges in the random graph\n",
    "# create a G using networkx\n",
    "G = generate_random_graph(num_nodes, num_edges)\n",
    "node = 2\n",
    "print(f'node: {node}')\n",
    "betweenness = calc_betweenness_single_node(G, node)\n",
    "print(f'betweenness (custom): {betweenness}')\n"
   ]
  },
  {
   "cell_type": "markdown",
   "metadata": {},
   "source": [
    "### c"
   ]
  },
  {
   "cell_type": "code",
   "execution_count": null,
   "metadata": {},
   "outputs": [],
   "source": [
    "# create edge cases for calc_betweenness_single_node\n",
    "Graphs = []\n",
    "G1 = nx.Graph()\n",
    "G1.add_edges_from([(0, 1), (1, 2), (2, 3)])  # Simple connected graph\n",
    "Graphs.append(G1)\n",
    "\n",
    "G2 = nx.Graph()\n",
    "G2.add_edges_from([(0, 1), (1, 2), (3, 4)])  # Disconnected graph\n",
    "Graphs.append(G2)\n",
    "G3 = nx.Graph()\n",
    "G3.add_edges_from([(0, 1)])  # Graph with very few edges\n",
    "Graphs.append(G3)\n",
    "G4 = nx.Graph()\n",
    "G4.add_edges_from([(0, 1), (1, 2), (2, 3), (3, 4), (4, 0)])  # Cycle graph\n",
    "Graphs.append(G4)\n",
    "G5 = nx.Graph()\n",
    "G5.add_edges_from([(0, 1), (1, 2), (2, 3), (3, 4), (4, 5), (5, 6), (6, 0)])  # Larger cycle graph\n",
    "Graphs.append(G5)\n",
    "G6 = nx.Graph()\n",
    "G6.add_edges_from([(0, 1), (1, 2), (2, 3), (3, 4), (4, 5), (5, 6), (6, 7), (7, 8), (8, 0)])  # Even larger cycle graph\n",
    "Graphs.append(G6)"
   ]
  },
  {
   "cell_type": "code",
   "execution_count": null,
   "metadata": {},
   "outputs": [
    {
     "name": "stdout",
     "output_type": "stream",
     "text": [
      "\n",
      "Testing Graph 1\n",
      "Node 0: Betweenness Centrality = 0.0, NetworkX = 0.0\n",
      "Node 1: Betweenness Centrality = 2.0, NetworkX = 2.0\n",
      "Node 2: Betweenness Centrality = 2.0, NetworkX = 2.0\n",
      "Node 3: Betweenness Centrality = 0.0, NetworkX = 0.0\n",
      "\n",
      "Testing Graph 2\n",
      "Node 0: Betweenness Centrality = 0.0, NetworkX = 0.0\n",
      "Node 1: Betweenness Centrality = 1.0, NetworkX = 1.0\n",
      "Node 2: Betweenness Centrality = 0.0, NetworkX = 0.0\n",
      "Node 3: Betweenness Centrality = 0.0, NetworkX = 0.0\n",
      "Node 4: Betweenness Centrality = 0.0, NetworkX = 0.0\n",
      "\n",
      "Testing Graph 3\n",
      "Node 0: Betweenness Centrality = 0.0, NetworkX = 0.0\n",
      "Node 1: Betweenness Centrality = 0.0, NetworkX = 0.0\n",
      "\n",
      "Testing Graph 4\n",
      "Node 0: Betweenness Centrality = 1.0, NetworkX = 1.0\n",
      "Node 1: Betweenness Centrality = 1.0, NetworkX = 1.0\n",
      "Node 2: Betweenness Centrality = 1.0, NetworkX = 1.0\n",
      "Node 3: Betweenness Centrality = 1.0, NetworkX = 1.0\n",
      "Node 4: Betweenness Centrality = 1.0, NetworkX = 1.0\n",
      "\n",
      "Testing Graph 5\n",
      "Node 0: Betweenness Centrality = 3.0, NetworkX = 3.0\n",
      "Node 1: Betweenness Centrality = 3.0, NetworkX = 3.0\n",
      "Node 2: Betweenness Centrality = 3.0, NetworkX = 3.0\n",
      "Node 3: Betweenness Centrality = 3.0, NetworkX = 3.0\n",
      "Node 4: Betweenness Centrality = 3.0, NetworkX = 3.0\n",
      "Node 5: Betweenness Centrality = 3.0, NetworkX = 3.0\n",
      "Node 6: Betweenness Centrality = 3.0, NetworkX = 3.0\n",
      "\n",
      "Testing Graph 6\n",
      "Node 0: Betweenness Centrality = 6.0, NetworkX = 6.0\n",
      "Node 1: Betweenness Centrality = 6.0, NetworkX = 6.0\n",
      "Node 2: Betweenness Centrality = 6.0, NetworkX = 6.0\n",
      "Node 3: Betweenness Centrality = 6.0, NetworkX = 6.0\n",
      "Node 4: Betweenness Centrality = 6.0, NetworkX = 6.0\n",
      "Node 5: Betweenness Centrality = 6.0, NetworkX = 6.0\n",
      "Node 6: Betweenness Centrality = 6.0, NetworkX = 6.0\n",
      "Node 7: Betweenness Centrality = 6.0, NetworkX = 6.0\n",
      "Node 8: Betweenness Centrality = 6.0, NetworkX = 6.0\n"
     ]
    }
   ],
   "source": [
    "for idx, G in enumerate(Graphs):\n",
    "    print(f\"\\nTesting Graph {idx + 1}\")\n",
    "    try:\n",
    "        for node in G.nodes():\n",
    "            print(f\"Node {node}: Betweenness Centrality = {calc_betweenness_single_node(G, node)}, NetworkX = {nx.betweenness_centrality(G, normalized=False)[node]}\")\n",
    "    except Exception as e:\n",
    "        print(f\"Error: {e}\")"
   ]
  },
  {
   "cell_type": "code",
   "execution_count": null,
   "metadata": {},
   "outputs": [
    {
     "name": "stdout",
     "output_type": "stream",
     "text": [
      "node: 2\n",
      "betweenness (custom): 148.18181818181816\n",
      "betweenness (networkx): 148.18181818181816\n"
     ]
    }
   ],
   "source": [
    "num_nodes = 100  # Number of nodes in the random graph\n",
    "num_edges = 200  # Number of edges in the random graph\n",
    "# create a G using networkx\n",
    "G = generate_random_graph(num_nodes, num_edges)\n",
    "node = 2\n",
    "print(f'node: {node}')\n",
    "betweenness = calc_betweenness_single_node(G, node)\n",
    "networkx_betweenness = nx.betweenness_centrality(G, normalized=False)[node]\n",
    "\n",
    "print(f'betweenness (custom): {betweenness}')\n",
    "print(f'betweenness (networkx): {networkx_betweenness}')"
   ]
  },
  {
   "cell_type": "markdown",
   "metadata": {},
   "source": [
    "### d"
   ]
  },
  {
   "cell_type": "markdown",
   "metadata": {},
   "source": [
    "## Question 4"
   ]
  },
  {
   "cell_type": "markdown",
   "metadata": {},
   "source": [
    "### a"
   ]
  },
  {
   "cell_type": "markdown",
   "metadata": {},
   "source": [
    "\n",
    "I think this"
   ]
  },
  {
   "cell_type": "markdown",
   "metadata": {},
   "source": [
    "### b"
   ]
  },
  {
   "cell_type": "markdown",
   "metadata": {},
   "source": [
    "### c"
   ]
  },
  {
   "cell_type": "markdown",
   "metadata": {},
   "source": [
    "### d"
   ]
  },
  {
   "cell_type": "markdown",
   "metadata": {},
   "source": [
    "## Question 5"
   ]
  },
  {
   "cell_type": "markdown",
   "metadata": {},
   "source": [
    "### a"
   ]
  },
  {
   "cell_type": "markdown",
   "metadata": {},
   "source": []
  },
  {
   "cell_type": "markdown",
   "metadata": {},
   "source": [
    "### b"
   ]
  },
  {
   "cell_type": "markdown",
   "metadata": {},
   "source": [
    "### c"
   ]
  },
  {
   "cell_type": "markdown",
   "metadata": {},
   "source": [
    "### d"
   ]
  },
  {
   "cell_type": "markdown",
   "metadata": {},
   "source": [
    "## Question 6"
   ]
  },
  {
   "cell_type": "markdown",
   "metadata": {},
   "source": [
    "First of all, thank you for asking our opinions and comments about the course. This is highly valuable and I appreciate it a lot.\n",
    "I think the course is well-structured and the content is very interesting. As a PhD student who works with Network Science tools, I believe this course gives me strong skills to work with networkx and get more comfortable with implementing network-related codes. \n",
    "\n",
    "I particularly like the hands-on approach we have during the sessions, but I think it would be better if, instead of just covering numerous concepts in this course, we focus on some specific topics and go deeper into them. In the last couple of sessions, I learned a lot about networkx, and more broadly, Python; However, with this fast pace it's not very likely for me to keep all those new functions, tools, and concepts in mind, when I really need them.\n",
    "\n",
    "And this is the comment of a person who is already familiar with coding and Python (but no networkx background). I think for students who are new to coding, it might be even more challenging to keep up with the pace of the course.\n",
    "\n",
    "There is also another way that comes to my mind about how we can improve the course. I think it would be great if each student can pick a specific topic in network science that they are interested in, and defines a project around that topic. and as we go into the course (more lecture-based) that you talk about different concepts, and going over their implementations in networkx (less detailed than current verison), we can apply those concepts to our projects. Then, students can have 3-4 pitch sessions during the semester to share their progress and get feedback from you and other students.\n",
    "\n",
    "This way, students can learn the concepts better and also have an ongoing project for the entire semester that keeps them engaged with course materials and motivated to learn more and apply new tools and concepts to their projects as they go over the course."
   ]
  }
 ],
 "metadata": {
  "kernelspec": {
   "display_name": "gametheory",
   "language": "python",
   "name": "python3"
  },
  "language_info": {
   "codemirror_mode": {
    "name": "ipython",
    "version": 3
   },
   "file_extension": ".py",
   "mimetype": "text/x-python",
   "name": "python",
   "nbconvert_exporter": "python",
   "pygments_lexer": "ipython3",
   "version": "3.13.5"
  }
 },
 "nbformat": 4,
 "nbformat_minor": 2
}
