{
 "cells": [
  {
   "cell_type": "markdown",
   "metadata": {},
   "source": [
    "# HW 1\n",
    "\n",
    "Sepehr Ilami\n",
    "\n",
    "September 2025"
   ]
  },
  {
   "cell_type": "markdown",
   "metadata": {},
   "source": [
    "## Question 1"
   ]
  },
  {
   "cell_type": "markdown",
   "metadata": {},
   "source": [
    "## a"
   ]
  },
  {
   "cell_type": "markdown",
   "metadata": {},
   "source": [
    ".csv:\n",
    "\n",
    "This format is very simple and very well known. It's also readable by humans and works well as supplementary materials of a project/paper. Also, it's easy to import/export in Python and very easy to work with\n",
    "\n",
    ".pkl:\n",
    "\n",
    "This is a differnet format that is more efficient in terms of space and speed. It also keeps the object structure intact, which is useful for complex data types.\n",
    "\n",
    ".gml:\n",
    "\n",
    "It perfectly stores nodes and edges and their attributes all together in one file. It's specifically designed for graph data, making it a natural choice for this kind of work. It's also human readable.\n",
    "\n",
    "ElasticSearch:\n",
    "\n",
    "Very fast for searching, querying, and indexing huge datasets. It also supports complex queries, making it a powerful tool for data analysis. Great for attribute-based searches."
   ]
  },
  {
   "cell_type": "markdown",
   "metadata": {},
   "source": [
    "## b"
   ]
  },
  {
   "cell_type": "markdown",
   "metadata": {},
   "source": [
    "Basically, each format's disadvantages are the advantages of the others. \n",
    "\n",
    ".csv:\n",
    "\n",
    "while CSV files are simple and human-readable, they are not efficient for large datasets and do not preserve complex data structures, lacking schema or type information. Also, implementing multigraphs and hyperedges can be challenging due to the need for extra columns, and the graph structure is not explicit, requiring additional processing to reconstruct the graph.\n",
    "\n",
    ".pkl:\n",
    "\n",
    "I think it's only used with Python, so it's not very portable. Also, it's not human-readable, which can make debugging and manual inspection difficult. Additionally, security concerns arise when unpickling data from untrusted sources, as it can execute arbitrary code.\n",
    "\n",
    ".gml:\n",
    "\n",
    "While GML is human-readable and specifically designed for graph data, it can become complicated for very large graphs due to its text-based nature, leading to larger file sizes and slower parsing times. Additionally, GML may not support all complex graph structures natively, such as multigraphs or hyperedges, requiring workarounds. It's main problem though is its parse time and file size for large graphs.\n",
    "\n",
    "ElasticSearch:\n",
    "\n",
    "ElasticSearch is not a file format but a search engine, which means it requires setting up and maintaining a server, adding complexity compared to simple file formats. It is probably overkill for small datasets or simple graph structures, and its performance can degrade with very large datasets if not properly managed. You should simulate a graph with queries, which is not as straightforward as using a dedicated graph format."
   ]
  },
  {
   "cell_type": "markdown",
   "metadata": {},
   "source": [
    "## c"
   ]
  },
  {
   "cell_type": "markdown",
   "metadata": {},
   "source": [
    "I believe that .pkl files are the ones that pose a security risk. This is because they can execute arbitrary code during the unpickling process, which can be exploited if the data comes from an untrusted source. This makes them potentially dangerous if not handled carefully.\n",
    "\n",
    "Imagine you receive a package from someone you don't know. If the package contains a simple letter (like a .csv file), you can easily read it without any worries. But if the package contains a complex gadget (like a .pkl file), It could be very dangerous. The pickle can serialize and deserialize not just data, but also executable code in the form of bytecode. So when you unpickle data, you are basically asking the Python interpreter to execute a stream of instructions, including functions, classes, etc. An attacker can use this functionality to create a payload that performs malicious actions upon deserialization. For example, they could craft a pickle that, when unpickled, deletes files, steals data, or opens a backdoor on your system. This is why it's crucial to only unpickle data from trusted sources. \n",
    "\n"
   ]
  },
  {
   "cell_type": "markdown",
   "metadata": {},
   "source": [
    "## d"
   ]
  },
  {
   "cell_type": "markdown",
   "metadata": {},
   "source": [
    "Ok so, when each of these formats are ideal to use?\n",
    "\n",
    "**CSV** is sharable, readable, simple, and easy to use, making it great for small to medium datasets. It's particularly useful when you want to share data with others or include it as supplementary material in a publication. You can easily attach an edge list along with a node table (attributes), and you're done. Additionally, CSV is excellent for quick prototyping and analysis, especially when working with tabular data.\n",
    "\n",
    "**Pickle** is optimal for Python-only workflows, especially when you run an expensive pipeline to compute centralities or communities on a NetworkX graph. It allows you to checkpoint the enriched graph for quick reloads the next day. Its one-line save/load feature preserves all Python attributes exactly and is fast during development. However, it should not be shared externally, as it is best treated as a local cache artifact.\n",
    "\n",
    "**GML** is ideal for preparing a graph with node and edge attributes that you want collaborators to open in tools like Gephi. It captures both structure and attributes in a single text file, making it human-inspectable and well-supported by various graph tools.\n",
    "\n",
    "**Elasticsearch** awesome when analyzing massive, time-evolving interaction or telemetry graphs, such as billions of events (e.g., user-item clicks, login IP connections). It provides near-real-time filtering by time window and attributes, along with dashboards that spotlight emerging connections. Its distributed ingestion, fast aggregations, and powerful query Domain-specific Language (DSL) make it suitable for operational large-graph analytics.\n"
   ]
  },
  {
   "cell_type": "markdown",
   "metadata": {},
   "source": [
    "## Question 2"
   ]
  },
  {
   "cell_type": "markdown",
   "metadata": {},
   "source": [
    "## a"
   ]
  },
  {
   "cell_type": "markdown",
   "metadata": {},
   "source": [
    "## b"
   ]
  },
  {
   "cell_type": "markdown",
   "metadata": {},
   "source": [
    "## c"
   ]
  },
  {
   "cell_type": "markdown",
   "metadata": {},
   "source": [
    "## d"
   ]
  },
  {
   "cell_type": "markdown",
   "metadata": {},
   "source": [
    "## Question 3"
   ]
  },
  {
   "cell_type": "markdown",
   "metadata": {},
   "source": [
    "## a"
   ]
  },
  {
   "cell_type": "code",
   "execution_count": 44,
   "metadata": {},
   "outputs": [
    {
     "name": "stdout",
     "output_type": "stream",
     "text": [
      "node: 2\n",
      "Paths between 0 and 1: [[0, 1]], count through 2: 0\n",
      "Paths between 0 and 3: [[0, 1, 3], [0, 4, 3], [0, 7, 3], [0, 8, 3], [0, 2, 3], [0, 5, 3], [0, 6, 3], [0, 9, 3]], count through 2: 1\n",
      "Paths between 0 and 4: [[0, 4]], count through 2: 0\n",
      "Paths between 0 and 5: [[0, 5]], count through 2: 0\n",
      "Paths between 0 and 6: [[0, 6]], count through 2: 0\n",
      "Paths between 0 and 7: [[0, 7]], count through 2: 0\n",
      "Paths between 0 and 8: [[0, 8]], count through 2: 0\n",
      "Paths between 0 and 9: [[0, 9]], count through 2: 0\n",
      "Paths between 1 and 3: [[1, 3]], count through 2: 0\n",
      "Paths between 1 and 4: [[1, 0, 4], [1, 6, 4], [1, 5, 4], [1, 9, 4], [1, 3, 4], [1, 2, 4]], count through 2: 1\n",
      "Paths between 1 and 5: [[1, 5]], count through 2: 0\n",
      "Paths between 1 and 6: [[1, 6]], count through 2: 0\n",
      "Paths between 1 and 7: [[1, 0, 7], [1, 6, 7], [1, 9, 7], [1, 3, 7], [1, 8, 7], [1, 2, 7]], count through 2: 1\n",
      "Paths between 1 and 8: [[1, 8]], count through 2: 0\n",
      "Paths between 1 and 9: [[1, 9]], count through 2: 0\n",
      "Paths between 3 and 4: [[3, 4]], count through 2: 0\n",
      "Paths between 3 and 5: [[3, 5]], count through 2: 0\n",
      "Paths between 3 and 6: [[3, 6]], count through 2: 0\n",
      "Paths between 3 and 7: [[3, 7]], count through 2: 0\n",
      "Paths between 3 and 8: [[3, 8]], count through 2: 0\n",
      "Paths between 3 and 9: [[3, 9]], count through 2: 0\n",
      "Paths between 4 and 5: [[4, 5]], count through 2: 0\n",
      "Paths between 4 and 6: [[4, 6]], count through 2: 0\n",
      "Paths between 4 and 7: [[4, 7]], count through 2: 0\n",
      "Paths between 4 and 8: [[4, 5, 8], [4, 3, 8], [4, 0, 8], [4, 6, 8], [4, 7, 8], [4, 9, 8], [4, 2, 8]], count through 2: 1\n",
      "Paths between 4 and 9: [[4, 9]], count through 2: 0\n",
      "Paths between 5 and 6: [[5, 6]], count through 2: 0\n",
      "Paths between 5 and 7: [[5, 4, 7], [5, 6, 7], [5, 0, 7], [5, 9, 7], [5, 2, 7], [5, 3, 7], [5, 8, 7]], count through 2: 1\n",
      "Paths between 5 and 8: [[5, 8]], count through 2: 0\n",
      "Paths between 5 and 9: [[5, 9]], count through 2: 0\n",
      "Paths between 6 and 7: [[6, 7]], count through 2: 0\n",
      "Paths between 6 and 8: [[6, 8]], count through 2: 0\n",
      "Paths between 6 and 9: [[6, 9]], count through 2: 0\n",
      "Paths between 7 and 8: [[7, 8]], count through 2: 0\n",
      "Paths between 7 and 9: [[7, 9]], count through 2: 0\n",
      "Paths between 8 and 9: [[8, 9]], count through 2: 0\n",
      "betweenness (custom): 0.7440476190476188\n"
     ]
    }
   ],
   "source": [
    "# implement betweenness centrality using Brandes' algorithm, and compare with networkx\n",
    "import networkx as nx\n",
    "import random\n",
    "import time\n",
    "from collections import defaultdict, deque\n",
    "import numpy as np\n",
    "import matplotlib.pyplot as plt\n",
    "\n",
    "def generate_random_graph(num_nodes, num_edges):\n",
    "    G = nx.gnm_random_graph(num_nodes, num_edges)\n",
    "    return G\n",
    "\n",
    "def all_shortest_paths(G, start, end):\n",
    "    if start == end:\n",
    "        return [[start]]\n",
    "    \n",
    "    # BFS to find shortest distances and parents\n",
    "    distances = {start: 0}\n",
    "    parents = defaultdict(list)\n",
    "    queue = deque([start])\n",
    "    \n",
    "    while queue:\n",
    "        vertex = queue.popleft()\n",
    "        for neighbor in G.neighbors(vertex):\n",
    "            if neighbor not in distances:\n",
    "                distances[neighbor] = distances[vertex] + 1\n",
    "                queue.append(neighbor)\n",
    "                parents[neighbor].append(vertex)\n",
    "            elif distances[neighbor] == distances[vertex] + 1:\n",
    "                # Another shortest path to this neighbor\n",
    "                parents[neighbor].append(vertex)\n",
    "    \n",
    "    if end not in distances:\n",
    "        return []  # No path exists\n",
    "    \n",
    "    # Reconstruct all shortest paths\n",
    "    def build_paths(node):\n",
    "        if node == start:\n",
    "            return [[start]]\n",
    "        \n",
    "        paths = []\n",
    "        for parent in parents[node]:\n",
    "            for path in build_paths(parent):\n",
    "                paths.append(path + [node])\n",
    "        return paths\n",
    "    \n",
    "    return build_paths(end)\n",
    "\n",
    "def calc_betweenness_single_node(G, node):\n",
    "    nodes = list(G.nodes())\n",
    "    nodes.remove(node)\n",
    "    betweenness = 0.0\n",
    "    \n",
    "    for i in range(len(nodes)):\n",
    "        for j in range(i + 1, len(nodes)):\n",
    "            s = nodes[i]\n",
    "            t = nodes[j]\n",
    "            paths = all_shortest_paths(G, s, t)\n",
    "            if not paths:\n",
    "                print(f'No path between {s} and {t}')\n",
    "                continue\n",
    "            count_paths_through_node = sum(1 for path in paths if node in path[1:-1])\n",
    "            print(f'Paths between {s} and {t}: {paths}, count through {node}: {count_paths_through_node}')\n",
    "            betweenness += count_paths_through_node / len(paths)\n",
    "    \n",
    "    return betweenness\n",
    "\n",
    "num_nodes = 10  # Number of nodes in the random graph\n",
    "num_edges = 40  # Number of edges in the random graph\n",
    "# create a G using networkx\n",
    "G = generate_random_graph(num_nodes, num_edges)\n",
    "node = 2\n",
    "print(f'node: {node}')\n",
    "betweenness = calc_betweenness_single_node(G, node)\n",
    "print(f'betweenness (custom): {betweenness}')\n"
   ]
  },
  {
   "cell_type": "code",
   "execution_count": 25,
   "metadata": {},
   "outputs": [
    {
     "name": "stdout",
     "output_type": "stream",
     "text": [
      "Custom implementation time (small graph): 0.104337 seconds\n",
      "NetworkX implementation time (small graph): 0.000934 seconds\n",
      "Difference in results (L2 norm) (small graph): 0.083113\n"
     ]
    },
    {
     "data": {
      "image/png": "[encoded data removed]",
      "text/plain": [
       "<Figure size 1000x500 with 1 Axes>"
      ]
     },
     "metadata": {},
     "output_type": "display_data"
    }
   ],
   "source": [
    "\n",
    "def betweenness_centrality_all_nodes(G):\n",
    "    betweenness = {}\n",
    "    for node in G.nodes():\n",
    "        betweenness[node] = betweenness_calc_per_node(G, node)\n",
    "    \n",
    "    # Normalize the betweenness values\n",
    "    scale = 1 / ((len(G) - 1) * (len(G) - 2)) if len(G) > 2 else None\n",
    "    if scale is not None:\n",
    "        for v in betweenness:\n",
    "            betweenness[v] *= scale\n",
    "    \n",
    "    return betweenness\n",
    "\n",
    "# geenrate a small random graph and compare our method with networkx\n",
    "def generate_small_random_graph(num_nodes, num_edges):\n",
    "    G = nx.gnm_random_graph(num_nodes, num_edges)\n",
    "    return G\n",
    "\n",
    "def compare_betweenness_small(num_nodes, num_edges):\n",
    "    G = generate_small_random_graph(num_nodes, num_edges)\n",
    "    \n",
    "    start_time = time.time()\n",
    "    custom_bc = betweenness_centrality_all_nodes(G)\n",
    "    custom_time = time.time() - start_time\n",
    "    \n",
    "    start_time = time.time()\n",
    "    nx_bc = nx.betweenness_centrality(G, normalized=True)\n",
    "    nx_time = time.time() - start_time\n",
    "    \n",
    "    # Compare results\n",
    "    custom_values = np.array([custom_bc[node] for node in G.nodes()])\n",
    "    nx_values = np.array([nx_bc[node] for node in G.nodes()])\n",
    "    \n",
    "    difference = np.linalg.norm(custom_values - nx_values)\n",
    "    \n",
    "    print(f\"Custom implementation time (small graph): {custom_time:.6f} seconds\")\n",
    "    print(f\"NetworkX implementation time (small graph): {nx_time:.6f} seconds\")\n",
    "    print(f\"Difference in results (L2 norm) (small graph): {difference:.6f}\")\n",
    "    \n",
    "    # Plotting the results\n",
    "    plt.figure(figsize=(10, 5))\n",
    "    plt.scatter(custom_values, nx_values, alpha=0.5)\n",
    "    plt.plot([0, max(custom_values.max(), nx_values.max())], [0, max(custom_values.max(), nx_values.max())], 'r--')\n",
    "    plt.xlabel('Custom Betweenness Centrality (Small Graph)')\n",
    "    plt.ylabel('NetworkX Betweenness Centrality (Small Graph)')\n",
    "    plt.title('Comparison of Betweenness Centrality Implementations (Small Graph)')\n",
    "    plt.grid(True)\n",
    "    plt.show()\n",
    "\n",
    "num_nodes_small = 20  # Number of nodes in the small random graph\n",
    "num_edges_small = 50  # Number of edges in the small random graph\n",
    "compare_betweenness_small(num_nodes_small, num_edges_small)"
   ]
  },
  {
   "cell_type": "markdown",
   "metadata": {},
   "source": [
    "## b"
   ]
  },
  {
   "cell_type": "code",
   "execution_count": 26,
   "metadata": {},
   "outputs": [
    {
     "name": "stdout",
     "output_type": "stream",
     "text": [
      "node: 2\n",
      "betweenness (custom): 9.983333333333333\n"
     ]
    }
   ],
   "source": [
    "def calc_betweenness_single_node(G, node):\n",
    "    nodes = list(G.nodes())\n",
    "    # check if node is in G.nodes\n",
    "    if node not in nodes:\n",
    "        raise ValueError(f\"Node {node} not in graph\")\n",
    "    # if the graph is not a networkX object, raise an error\n",
    "    if not isinstance(G, nx.Graph):\n",
    "        raise ValueError(\"G must be a networkx Graph object\")\n",
    "    # check the graph connectivity\n",
    "    if not nx.is_connected(G):\n",
    "        raise ValueError(\"Graph must be connected\")\n",
    "    # if the number of edges are extremely low, raise a warning\n",
    "    if G.number_of_edges() < 10:\n",
    "        raise Warning(\"Graph is very sparse, results may be inaccurate\")\n",
    "    nodes.remove(node)\n",
    "    betweenness = 0.0\n",
    "    \n",
    "    for i in range(len(nodes)):\n",
    "        for j in range(i + 1, len(nodes)):\n",
    "            s = nodes[i]\n",
    "            t = nodes[j]\n",
    "            paths = shortest_path(G, s, t)\n",
    "            if len(paths) == 0:\n",
    "                raise ValueError(f\"No path between {s} and {t}; graph must be connected\")\n",
    "            if not paths:\n",
    "                continue\n",
    "            count_paths_through_node = sum(1 for path in paths if node in path[1:-1])\n",
    "            betweenness += count_paths_through_node / len(paths)\n",
    "    \n",
    "    return betweenness\n",
    "\n",
    "num_nodes = 10  # Number of nodes in the random graph\n",
    "num_edges = 20  # Number of edges in the random graph\n",
    "# create a G using networkx\n",
    "G = generate_random_graph(num_nodes, num_edges)\n",
    "node = 2\n",
    "print(f'node: {node}')\n",
    "betweenness = calc_betweenness_single_node(G, node)\n",
    "print(f'betweenness (custom): {betweenness}')\n"
   ]
  },
  {
   "cell_type": "markdown",
   "metadata": {},
   "source": [
    "## c"
   ]
  },
  {
   "cell_type": "code",
   "execution_count": 31,
   "metadata": {},
   "outputs": [
    {
     "name": "stdout",
     "output_type": "stream",
     "text": [
      "node: 2\n",
      "betweenness (custom): 6.3500000000000005\n",
      "betweenness (networkx): 0.06481481481481481\n"
     ]
    }
   ],
   "source": [
    "# compare with networkX\n",
    "\n",
    "num_nodes = 10  # Number of nodes in the random graph\n",
    "num_edges = 20  # Number of edges in the random graph\n",
    "# create a G using networkx\n",
    "G = generate_random_graph(num_nodes, num_edges)\n",
    "node = 2\n",
    "print(f'node: {node}')\n",
    "betweenness = calc_betweenness_single_node(G, node)\n",
    "networkx_betweenness = nx.betweenness_centrality(G, normalized=True)[node]\n",
    "\n",
    "print(f'betweenness (custom): {betweenness}')\n",
    "print(f'betweenness (networkx): {networkx_betweenness}')"
   ]
  },
  {
   "cell_type": "markdown",
   "metadata": {},
   "source": [
    "## d"
   ]
  },
  {
   "cell_type": "markdown",
   "metadata": {},
   "source": [
    "## Question 4"
   ]
  },
  {
   "cell_type": "markdown",
   "metadata": {},
   "source": [
    "## a"
   ]
  },
  {
   "cell_type": "markdown",
   "metadata": {},
   "source": [
    "\n",
    "I think this"
   ]
  },
  {
   "cell_type": "markdown",
   "metadata": {},
   "source": [
    "## b"
   ]
  },
  {
   "cell_type": "markdown",
   "metadata": {},
   "source": [
    "## c"
   ]
  },
  {
   "cell_type": "markdown",
   "metadata": {},
   "source": [
    "## d"
   ]
  },
  {
   "cell_type": "markdown",
   "metadata": {},
   "source": [
    "## Question 5"
   ]
  },
  {
   "cell_type": "markdown",
   "metadata": {},
   "source": [
    "## a"
   ]
  },
  {
   "cell_type": "markdown",
   "metadata": {},
   "source": []
  },
  {
   "cell_type": "markdown",
   "metadata": {},
   "source": [
    "## b"
   ]
  },
  {
   "cell_type": "markdown",
   "metadata": {},
   "source": [
    "## c"
   ]
  },
  {
   "cell_type": "markdown",
   "metadata": {},
   "source": [
    "## d"
   ]
  },
  {
   "cell_type": "markdown",
   "metadata": {},
   "source": [
    "## Question 6"
   ]
  },
  {
   "cell_type": "markdown",
   "metadata": {},
   "source": [
    "First of all, thank you for asking our opinions and comments about the course. This is highly valuable and I appreciate it a lot.\n",
    "I think the course is well-structured and the content is very interesting. As a PhD student who works with Network Science tools, I believe this course gives me strong skills to work with networkx and get more comfortable with implementing network-related codes. \n",
    "\n",
    "I particularly like the hands-on approach we have during the sessions, but I think it would be better if, instead of just covering numerous concepts in this course, we focus on some specific topics and go deeper into them. In the last couple of sessions, I learned a lot about networkx, and more broadly, Python; However, with this fast pace it's not very likely for me to keep all those new functions, tools, and concepts in mind, when I really need them.\n",
    "\n",
    "And this is the comment of a person who is already familiar with coding and Python (but no networkx background). I think for students who are new to coding, it might be even more challenging to keep up with the pace of the course.\n",
    "\n",
    "There is also another way that comes to my mind about how we can improve the course. I think it would be great if each student can pick a specific topic in network science that they are interested in, and defines a project around that topic. and as we go into the course (more lecture-based) that you talk about different concepts, and going over their implementations in networkx (less detailed than current verison), we can apply those concepts to our projects. Then, students can have 3-4 pitch sessions during the semester to share their progress and get feedback from you and other students.\n",
    "\n",
    "This way, students can learn the concepts better and also have an ongoing project for the entire semester that keeps them engaged with course materials and motivated to learn more and apply new tools and concepts to their projects as they go over the course."
   ]
  }
 ],
 "metadata": {
  "kernelspec": {
   "display_name": "gametheory",
   "language": "python",
   "name": "python3"
  },
  "language_info": {
   "codemirror_mode": {
    "name": "ipython",
    "version": 3
   },
   "file_extension": ".py",
   "mimetype": "text/x-python",
   "name": "python",
   "nbconvert_exporter": "python",
   "pygments_lexer": "ipython3",
   "version": "3.13.5"
  }
 },
 "nbformat": 4,
 "nbformat_minor": 2
}
